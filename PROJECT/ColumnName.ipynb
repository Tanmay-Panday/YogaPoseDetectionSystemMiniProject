{
 "cells": [
  {
   "cell_type": "code",
   "execution_count": 1,
   "id": "608bec76-62db-4577-8592-11dc929f2b85",
   "metadata": {},
   "outputs": [],
   "source": [
    "import csv\n",
    "import os\n",
    "import numpy as np\n",
    "import mediapipe as mp\n",
    "import cv2"
   ]
  },
  {
   "cell_type": "code",
   "execution_count": 2,
   "id": "a3a0c384-d54b-413d-8a89-28e718fe16e5",
   "metadata": {},
   "outputs": [],
   "source": [
    "mp_drawing = mp.solutions.drawing_utils\n",
    "mp_holistic = mp.solutions.holistic     "
   ]
  },
  {
   "cell_type": "markdown",
   "id": "c4991ce2-d3ea-4240-8b75-bd53a6b86660",
   "metadata": {},
   "source": [
    "### A FUNCTION WHICH OPENS CAMERA AND RETURNS RESULTS(HOLISTIC) REGARDING THE POSE"
   ]
  },
  {
   "cell_type": "code",
   "execution_count": 3,
   "id": "92484e6e-60ef-4cdc-b88e-bd2f3f4463db",
   "metadata": {},
   "outputs": [],
   "source": [
    "def CusCam():\n",
    "    cap = cv2.VideoCapture(0)\n",
    "    holistic =mp_holistic.Holistic(min_detection_confidence=0.5, min_tracking_confidence=0.5)\n",
    "    while cap.isOpened():\n",
    "        ret, frame = cap.read() #ret = true <if camera is available> frame = image array vector\n",
    "    \n",
    "        image = cv2.cvtColor(frame, cv2.COLOR_BGR2RGB)\n",
    "        results = holistic.process(image)\n",
    "        image = cv2.cvtColor(frame, cv2.COLOR_RGB2BGR)\n",
    "    \n",
    "        mp_drawing.draw_landmarks(image, results.pose_landmarks, mp_holistic.POSE_CONNECTIONS,\n",
    "                                  mp_drawing.DrawingSpec(color=(245,117,66), thickness=1, circle_radius=1),\n",
    "                                  mp_drawing.DrawingSpec(color=(245,66,230), thickness=1, circle_radius=1)\n",
    "                                 )\n",
    "        cv2.imshow(\"OPEN CV CAMERA\", image)\n",
    "        if cv2.waitKey(10) & 0xFF == ord(\"q\"):\n",
    "            break\n",
    "    \n",
    "    cap.release()\n",
    "    cv2.destroyAllWindows()\n",
    "    return results"
   ]
  },
  {
   "cell_type": "code",
   "execution_count": 4,
   "id": "abb07ffb-4b79-49c2-9390-3562a28cab12",
   "metadata": {},
   "outputs": [
    {
     "name": "stdout",
     "output_type": "stream",
     "text": [
      "33\n"
     ]
    }
   ],
   "source": [
    "results = CusCam()\n",
    "total_cords = len(results.pose_landmarks.landmark)\n",
    "print(total_cords)"
   ]
  },
  {
   "cell_type": "code",
   "execution_count": 5,
   "id": "38ef9aa0-fb1c-46f8-96fd-350380dae262",
   "metadata": {},
   "outputs": [],
   "source": [
    "landmarks = ['class']\n",
    "for val in range(1,total_cords+1):\n",
    "    landmarks = landmarks + ['x{}'.format(val), \"y{}\".format(val), \"z{}\".format(val), \"v{}\".format(val)]"
   ]
  },
  {
   "cell_type": "code",
   "execution_count": 6,
   "id": "c597621c-1193-4102-83c6-c205332ec267",
   "metadata": {},
   "outputs": [
    {
     "name": "stdout",
     "output_type": "stream",
     "text": [
      "['class', 'x1', 'y1', 'z1', 'v1', 'x2', 'y2', 'z2', 'v2', 'x3', 'y3', 'z3', 'v3', 'x4', 'y4', 'z4', 'v4', 'x5', 'y5', 'z5', 'v5', 'x6', 'y6', 'z6', 'v6', 'x7', 'y7', 'z7', 'v7', 'x8', 'y8', 'z8', 'v8', 'x9', 'y9', 'z9', 'v9', 'x10', 'y10', 'z10', 'v10', 'x11', 'y11', 'z11', 'v11', 'x12', 'y12', 'z12', 'v12', 'x13', 'y13', 'z13', 'v13', 'x14', 'y14', 'z14', 'v14', 'x15', 'y15', 'z15', 'v15', 'x16', 'y16', 'z16', 'v16', 'x17', 'y17', 'z17', 'v17', 'x18', 'y18', 'z18', 'v18', 'x19', 'y19', 'z19', 'v19', 'x20', 'y20', 'z20', 'v20', 'x21', 'y21', 'z21', 'v21', 'x22', 'y22', 'z22', 'v22', 'x23', 'y23', 'z23', 'v23', 'x24', 'y24', 'z24', 'v24', 'x25', 'y25', 'z25', 'v25', 'x26', 'y26', 'z26', 'v26', 'x27', 'y27', 'z27', 'v27', 'x28', 'y28', 'z28', 'v28', 'x29', 'y29', 'z29', 'v29', 'x30', 'y30', 'z30', 'v30', 'x31', 'y31', 'z31', 'v31', 'x32', 'y32', 'z32', 'v32', 'x33', 'y33', 'z33', 'v33']\n"
     ]
    }
   ],
   "source": [
    "print(landmarks)"
   ]
  },
  {
   "cell_type": "markdown",
   "id": "2e35be8f-fbe8-4b8d-9c29-3795d558b8d3",
   "metadata": {},
   "source": [
    "# for better understanding of column naming\n",
    "### class : yoga pose name\n",
    "### x , y , z : pose coordinates\n",
    "### v : visibility"
   ]
  },
  {
   "cell_type": "code",
   "execution_count": 7,
   "id": "5119d7bd-6bcd-4745-b3f3-c0b1084db3b2",
   "metadata": {},
   "outputs": [
    {
     "name": "stdout",
     "output_type": "stream",
     "text": [
      "['class', 'x1', 'y1', 'z1', 'v1']\n"
     ]
    }
   ],
   "source": [
    "print(landmarks[0:5])"
   ]
  },
  {
   "cell_type": "code",
   "execution_count": 8,
   "id": "43832875-3759-478d-aba9-cfda30295c00",
   "metadata": {},
   "outputs": [],
   "source": [
    "with open('coordinates.csv', mode = 'w',newline='') as file:\n",
    "    csv_editor = csv.writer(file, delimiter=',', quotechar='\"', quoting=csv.QUOTE_MINIMAL)\n",
    "    csv_editor.writerow(landmarks)"
   ]
  },
  {
   "cell_type": "markdown",
   "id": "21d1c189-3527-4da7-bec9-31845119cc93",
   "metadata": {},
   "source": [
    "# IMPORTANT ( LENGTH OF LANDMARKS =  CLASSNAME + COORDINATES )"
   ]
  },
  {
   "cell_type": "code",
   "execution_count": 9,
   "id": "7052ae12-9629-4e4e-a9ff-35eb3bdfefb3",
   "metadata": {},
   "outputs": [
    {
     "name": "stdout",
     "output_type": "stream",
     "text": [
      "133\n"
     ]
    }
   ],
   "source": [
    "print(len(landmarks))   #total 133"
   ]
  },
  {
   "cell_type": "code",
   "execution_count": null,
   "id": "de13cd23-3ac7-4f2d-b032-c5585e11afcc",
   "metadata": {},
   "outputs": [],
   "source": []
  }
 ],
 "metadata": {
  "kernelspec": {
   "display_name": "Python 3 (ipykernel)",
   "language": "python",
   "name": "python3"
  },
  "language_info": {
   "codemirror_mode": {
    "name": "ipython",
    "version": 3
   },
   "file_extension": ".py",
   "mimetype": "text/x-python",
   "name": "python",
   "nbconvert_exporter": "python",
   "pygments_lexer": "ipython3",
   "version": "3.8.10"
  }
 },
 "nbformat": 4,
 "nbformat_minor": 5
}
