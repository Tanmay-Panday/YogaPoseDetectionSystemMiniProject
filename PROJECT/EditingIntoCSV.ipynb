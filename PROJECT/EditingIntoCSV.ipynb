{
 "cells": [
  {
   "cell_type": "code",
   "execution_count": 18,
   "id": "789989c2-a1bf-46b0-9a12-ace53878a2bb",
   "metadata": {},
   "outputs": [],
   "source": [
    "import csv\n",
    "import os\n",
    "import numpy as np\n",
    "import mediapipe as mp\n",
    "import cv2"
   ]
  },
  {
   "cell_type": "code",
   "execution_count": 19,
   "id": "67b68d9a-6673-4989-96bf-b03d357beafe",
   "metadata": {},
   "outputs": [],
   "source": [
    "mp_drawing = mp.solutions.drawing_utils\n",
    "mp_holistic = mp.solutions.holistic"
   ]
  },
  {
   "cell_type": "markdown",
   "id": "2cef89be-b5db-4b2a-a149-d4df4ab28431",
   "metadata": {},
   "source": [
    "## function which opens camera and returns pose landmarks in numpy array format"
   ]
  },
  {
   "cell_type": "code",
   "execution_count": 11,
   "id": "b116c5df-0838-40cf-9789-c9e82ba6fbe7",
   "metadata": {},
   "outputs": [],
   "source": [
    "def givePoseCoords():\n",
    "    cap = cv2.VideoCapture(0)\n",
    "    holistic =mp_holistic.Holistic(min_detection_confidence=0.5, min_tracking_confidence=0.5)\n",
    "    while cap.isOpened():\n",
    "        ret, frame = cap.read() #ret = true <if camera is available> frame = image array vector\n",
    "    \n",
    "        image = cv2.cvtColor(frame, cv2.COLOR_BGR2RGB)\n",
    "        results = holistic.process(image)\n",
    "        image = cv2.cvtColor(frame, cv2.COLOR_RGB2BGR)\n",
    "    \n",
    "        mp_drawing.draw_landmarks(image, results.pose_landmarks, mp_holistic.POSE_CONNECTIONS,\n",
    "                                  mp_drawing.DrawingSpec(color=(245,117,66), thickness=1, circle_radius=1),\n",
    "                                  mp_drawing.DrawingSpec(color=(245,66,230), thickness=1, circle_radius=1)\n",
    "                                 )\n",
    "        try:\n",
    "            pose = results.pose_landmarks.landmark\n",
    "            pose_row=np.array([[landmark.x, landmark.y, landmark.z, landmark.visibility] for landmark in pose]).flatten()    ## using flatten to collapse big array to small array\n",
    "            \n",
    "        except:\n",
    "            pass\n",
    "        cv2.imshow(\"OPEN CV CAMERA\", image)\n",
    "        if cv2.waitKey(10) & 0xFF == ord(\"q\"):\n",
    "            break\n",
    "    \n",
    "    cap.release()\n",
    "    cv2.destroyAllWindows()\n",
    "    return pose_row"
   ]
  },
  {
   "cell_type": "code",
   "execution_count": 20,
   "id": "6d98bea3-731c-43ac-acfb-97efafe5b69b",
   "metadata": {},
   "outputs": [],
   "source": [
    "def givePoseCoordsTimed10(poseName):\n",
    "    cap = cv2.VideoCapture(0)\n",
    "    holistic = mp.holistic.Holistic(min_detection_confidence=0.5, min_tracking_confidence=0.5)\n",
    "    \n",
    "    timer_duration = 10\n",
    "    \n",
    "    # Get the current time to start the timer\n",
    "    start_time = time.time()\n",
    "    \n",
    "    while cap.isOpened():\n",
    "        ret, frame = cap.read()  # ret = true <if camera is available> frame = image array vector\n",
    "\n",
    "        # Calculate the elapsed time\n",
    "        elapsed_time = time.time() - start_time\n",
    "        remaining_time = max(0, timer_duration - elapsed_time)\n",
    "        \n",
    "        # Draw the countdown timer on the frame\n",
    "        cv2.putText(frame, f\"Timer: {int(remaining_time)} seconds\", (10, 30),\n",
    "                    cv2.FONT_HERSHEY_SIMPLEX, 1, (255, 255, 255), 2, cv2.LINE_AA)\n",
    "\n",
    "        image = cv2.cvtColor(frame, cv2.COLOR_BGR2RGB)\n",
    "        results = holistic.process(image)\n",
    "        image = cv2.cvtColor(frame, cv2.COLOR_RGB2BGR)\n",
    "\n",
    "        mp.drawing_utils.draw_landmarks(image, results.pose_landmarks, mp.holistic.POSE_CONNECTIONS,\n",
    "                                        mp.drawing_utils.DrawingSpec(color=(245, 117, 66), thickness=1, circle_radius=1),\n",
    "                                        mp.drawing_utils.DrawingSpec(color=(245, 66, 230), thickness=1, circle_radius=1)\n",
    "                                       )\n",
    "        \n",
    "        try:\n",
    "            pose = results.pose_landmarks.landmark\n",
    "            pose_row_np = np.array([[landmark.x, landmark.y, landmark.z, landmark.visibility] for landmark in pose]).flatten()\n",
    "            pose_Row = list(pose_row_np)\n",
    "            pose_Row.insert(0, poseName)\n",
    "            with open('coordinates.csv', mode = 'a',newline='') as file:\n",
    "                csv_editor = csv.writer(file, delimiter=',', quotechar='\"', quoting=csv.QUOTE_MINIMAL)\n",
    "                csv_editor.writerow(pose_Row)\n",
    "            \n",
    "        except:\n",
    "            pass\n",
    "\n",
    "        cv2.imshow(\"OPEN CV CAMERA\", image)\n",
    "\n",
    "        if elapsed_time >= timer_duration:\n",
    "            break\n",
    "\n",
    "        if cv2.waitKey(10) & 0xFF == ord(\"q\"):\n",
    "            break\n",
    "\n",
    "    cap.release()\n",
    "    cv2.destroyAllWindows()"
   ]
  },
  {
   "cell_type": "markdown",
   "id": "e15edb27-2c3f-44e7-ac49-ec2275f1f123",
   "metadata": {},
   "source": [
    "## output of above"
   ]
  },
  {
   "cell_type": "code",
   "execution_count": 32,
   "id": "ecd7e62c-9229-4f6b-acf6-63364718f6f4",
   "metadata": {},
   "outputs": [
    {
     "data": {
      "text/plain": [
       "array([ 6.04737401e-01,  3.26731563e-01, -7.75318980e-01,  9.98669922e-01,\n",
       "        6.22320831e-01,  2.76402771e-01, -7.40556598e-01,  9.97109830e-01,\n",
       "        6.33898199e-01,  2.74906904e-01, -7.40356803e-01,  9.96833324e-01,\n",
       "        6.43592954e-01,  2.73751199e-01, -7.40691185e-01,  9.96861398e-01,\n",
       "        5.84221482e-01,  2.81589597e-01, -7.41671503e-01,  9.97425199e-01,\n",
       "        5.69862664e-01,  2.83411115e-01, -7.41326213e-01,  9.97334599e-01,\n",
       "        5.55536568e-01,  2.85954416e-01, -7.41590858e-01,  9.97454941e-01,\n",
       "        6.59629583e-01,  2.97757804e-01, -4.95280981e-01,  9.96768594e-01,\n",
       "        5.29280126e-01,  3.12577218e-01, -4.81247813e-01,  9.97558057e-01,\n",
       "        6.26340210e-01,  3.74964982e-01, -6.83343291e-01,  9.99380469e-01,\n",
       "        5.76047719e-01,  3.78776252e-01, -6.78086102e-01,  9.99383748e-01,\n",
       "        7.65784264e-01,  5.66627324e-01, -4.13955867e-01,  9.99462545e-01,\n",
       "        4.05327022e-01,  5.73629320e-01, -3.48655283e-01,  9.99177635e-01,\n",
       "        9.24745858e-01,  9.00151491e-01, -4.35212910e-01,  7.72604644e-01,\n",
       "        2.60135353e-01,  8.94650877e-01, -2.65963256e-01,  7.20313072e-01,\n",
       "        8.76343429e-01,  1.20982730e+00, -6.49778426e-01,  2.66508162e-01,\n",
       "        1.30794972e-01,  1.18702006e+00, -4.89423424e-01,  3.03122103e-01,\n",
       "        8.95909786e-01,  1.30089426e+00, -7.19643116e-01,  1.96136922e-01,\n",
       "        8.54004994e-02,  1.25633001e+00, -5.41494966e-01,  2.10793361e-01,\n",
       "        8.46370399e-01,  1.30762148e+00, -7.75233209e-01,  2.84260124e-01,\n",
       "        1.16393566e-01,  1.26378751e+00, -6.39967740e-01,  2.91050732e-01,\n",
       "        8.29319954e-01,  1.27992833e+00, -6.83338881e-01,  2.82082498e-01,\n",
       "        1.41112387e-01,  1.24437225e+00, -5.40703654e-01,  3.15171957e-01,\n",
       "        6.97163761e-01,  1.23851383e+00, -6.72408044e-02,  2.62648822e-03,\n",
       "        4.53258604e-01,  1.24001205e+00,  7.06065968e-02,  2.64447439e-03,\n",
       "        6.79099023e-01,  1.78958583e+00,  5.58841750e-02,  6.61520346e-04,\n",
       "        4.44810092e-01,  1.79320645e+00,  1.88094407e-01,  2.72767909e-04,\n",
       "        6.70930386e-01,  2.27051759e+00,  6.71776533e-01,  2.26016389e-04,\n",
       "        4.49562788e-01,  2.27243757e+00,  6.11062348e-01,  4.23842903e-05,\n",
       "        6.76358879e-01,  2.34472442e+00,  7.12922812e-01,  1.21007790e-04,\n",
       "        4.42498147e-01,  2.34653783e+00,  6.43295944e-01,  1.48322652e-04,\n",
       "        6.36552453e-01,  2.42592669e+00,  2.84338236e-01,  1.42916731e-04,\n",
       "        4.81658220e-01,  2.43737006e+00,  1.65375277e-01,  1.02495636e-04])"
      ]
     },
     "execution_count": 32,
     "metadata": {},
     "output_type": "execute_result"
    }
   ],
   "source": [
    "pose_row_np_ex = givePoseCoords()    ## sample output\n",
    "pose_row_np_ex"
   ]
  },
  {
   "cell_type": "code",
   "execution_count": 33,
   "id": "5da0f978-ade6-4041-bcf9-28f72ae164e3",
   "metadata": {},
   "outputs": [
    {
     "data": {
      "text/plain": [
       "[0.5600436925888062,\n",
       " 0.3042655885219574,\n",
       " -0.6512273550033569,\n",
       " 0.9994715452194214,\n",
       " 0.5810710191726685,\n",
       " 0.256675660610199,\n",
       " -0.6151419878005981,\n",
       " 0.9989110231399536,\n",
       " 0.5929816961288452,\n",
       " 0.25665584206581116,\n",
       " -0.6149827241897583,\n",
       " 0.9987795352935791,\n",
       " 0.6057213544845581,\n",
       " 0.25689005851745605,\n",
       " -0.6147595643997192,\n",
       " 0.9987092614173889,\n",
       " 0.5409188866615295,\n",
       " 0.25584328174591064,\n",
       " -0.6122581362724304,\n",
       " 0.9991692304611206,\n",
       " 0.5249990224838257,\n",
       " 0.2553083598613739,\n",
       " -0.6119391918182373,\n",
       " 0.9992172718048096,\n",
       " 0.5103681683540344,\n",
       " 0.25515180826187134,\n",
       " -0.6121984720230103,\n",
       " 0.9992887377738953,\n",
       " 0.620869517326355,\n",
       " 0.26905086636543274,\n",
       " -0.3301318287849426,\n",
       " 0.9985437989234924,\n",
       " 0.4823073446750641,\n",
       " 0.2708128094673157,\n",
       " -0.30728679895401,\n",
       " 0.9993783831596375,\n",
       " 0.5805811882019043,\n",
       " 0.3523855209350586,\n",
       " -0.5466240048408508,\n",
       " 0.9996785521507263,\n",
       " 0.5296161770820618,\n",
       " 0.34926462173461914,\n",
       " -0.539559006690979,\n",
       " 0.9997791051864624,\n",
       " 0.7106922268867493,\n",
       " 0.49344924092292786,\n",
       " -0.16715474426746368,\n",
       " 0.9993245601654053,\n",
       " 0.3717101812362671,\n",
       " 0.5238687992095947,\n",
       " -0.13809296488761902,\n",
       " 0.9997379779815674,\n",
       " 0.8550561666488647,\n",
       " 0.8124027848243713,\n",
       " -0.26607176661491394,\n",
       " 0.7472645044326782,\n",
       " 0.27057313919067383,\n",
       " 0.8997329473495483,\n",
       " -0.5434414148330688,\n",
       " 0.9111007452011108,\n",
       " 0.8408744931221008,\n",
       " 0.9178630709648132,\n",
       " -0.6545655131340027,\n",
       " 0.5145798921585083,\n",
       " 0.29287242889404297,\n",
       " 0.6311768889427185,\n",
       " -1.3209049701690674,\n",
       " 0.7524296045303345,\n",
       " 0.8605979084968567,\n",
       " 0.9604170322418213,\n",
       " -0.7470352649688721,\n",
       " 0.45459678769111633,\n",
       " 0.2693694233894348,\n",
       " 0.5615523457527161,\n",
       " -1.4665751457214355,\n",
       " 0.7278592586517334,\n",
       " 0.8372848629951477,\n",
       " 0.9277645945549011,\n",
       " -0.7694001197814941,\n",
       " 0.5035362243652344,\n",
       " 0.2909890115261078,\n",
       " 0.5114068388938904,\n",
       " -1.4277868270874023,\n",
       " 0.7501956820487976,\n",
       " 0.818397045135498,\n",
       " 0.9202441573143005,\n",
       " -0.6752416491508484,\n",
       " 0.5196147561073303,\n",
       " 0.30627870559692383,\n",
       " 0.5396580100059509,\n",
       " -1.3580353260040283,\n",
       " 0.7534996867179871,\n",
       " 0.6992247104644775,\n",
       " 1.147111177444458,\n",
       " -0.02334124594926834,\n",
       " 0.012891842983663082,\n",
       " 0.448099285364151,\n",
       " 1.1612684726715088,\n",
       " 0.02694735862314701,\n",
       " 0.020481664687395096,\n",
       " 0.6948331594467163,\n",
       " 1.6664332151412964,\n",
       " 0.005651759449392557,\n",
       " 0.0013657797826454043,\n",
       " 0.45313888788223267,\n",
       " 1.681891918182373,\n",
       " 0.14543190598487854,\n",
       " 0.0006887580384500325,\n",
       " 0.6954523324966431,\n",
       " 2.1492135524749756,\n",
       " 0.44393420219421387,\n",
       " 0.00021047776681371033,\n",
       " 0.458761066198349,\n",
       " 2.1617205142974854,\n",
       " 0.5185253024101257,\n",
       " 5.580431388807483e-05,\n",
       " 0.7010436058044434,\n",
       " 2.21364164352417,\n",
       " 0.4604125916957855,\n",
       " 0.00012530674575828016,\n",
       " 0.452019065618515,\n",
       " 2.2228853702545166,\n",
       " 0.5406399369239807,\n",
       " 0.0001403134665451944,\n",
       " 0.6698782444000244,\n",
       " 2.2963244915008545,\n",
       " 0.011209052987396717,\n",
       " 0.00013020030746702105,\n",
       " 0.4973846971988678,\n",
       " 2.316237211227417,\n",
       " 0.03297682851552963,\n",
       " 9.868876077234745e-05]"
      ]
     },
     "execution_count": 33,
     "metadata": {},
     "output_type": "execute_result"
    }
   ],
   "source": [
    "pose_Row = list(pose_row_np)      # converting numpy array to a list (sample output)\n",
    "pose_Row"
   ]
  },
  {
   "cell_type": "code",
   "execution_count": 34,
   "id": "f2280391-e4c3-4fb5-9ab4-fc056b5f31f3",
   "metadata": {},
   "outputs": [
    {
     "name": "stdout",
     "output_type": "stream",
     "text": [
      "132\n"
     ]
    }
   ],
   "source": [
    "print(len(pose_row))    ## length of all coordinates (132)"
   ]
  },
  {
   "cell_type": "code",
   "execution_count": 10,
   "id": "abf957e6-97f1-4ce7-bce8-d7b399505f43",
   "metadata": {},
   "outputs": [],
   "source": [
    "def givePoseRowList(poseName):\n",
    "    pose_row_np = givePoseCoordsTimed5s()\n",
    "    pose_Row = list(pose_row_np)\n",
    "    pose_Row.insert(0, poseName)\n",
    "    return pose_Row"
   ]
  },
  {
   "cell_type": "code",
   "execution_count": 45,
   "id": "cd915f3b-01da-4ac5-b30c-b5bd76fd3bed",
   "metadata": {},
   "outputs": [],
   "source": [
    "row_sample = givePoseRowList(\"two\")"
   ]
  },
  {
   "cell_type": "markdown",
   "id": "80596f0a-9f95-438a-9f60-bb8048c6c0c4",
   "metadata": {},
   "source": [
    "# data has been Created for inserting in csv file  (size = 133)"
   ]
  },
  {
   "cell_type": "code",
   "execution_count": 46,
   "id": "b779a9f5-5334-409f-8408-3c0a81cb0208",
   "metadata": {},
   "outputs": [
    {
     "name": "stdout",
     "output_type": "stream",
     "text": [
      "133\n"
     ]
    }
   ],
   "source": [
    "print(len(row_sample))   # length of list (sample)"
   ]
  },
  {
   "cell_type": "code",
   "execution_count": 47,
   "id": "5d496571-7291-4d2a-96aa-d3604e4b6f0d",
   "metadata": {},
   "outputs": [
    {
     "name": "stdout",
     "output_type": "stream",
     "text": [
      "['two', 0.5642871856689453, 0.36265820264816284, -0.5452543497085571, 0.9992713332176208]\n"
     ]
    }
   ],
   "source": [
    "print(row_sample[0:5])    # list (sample) elements"
   ]
  },
  {
   "cell_type": "markdown",
   "id": "84681cca-ab93-4a74-8d43-0383e8d27b56",
   "metadata": {},
   "source": [
    "## RECORDING DATA IN CSV FILE"
   ]
  },
  {
   "cell_type": "code",
   "execution_count": 6,
   "id": "80c39ae9-07c0-4384-a313-593382464037",
   "metadata": {},
   "outputs": [],
   "source": [
    "def enterNewPoseInCSV(poseNameFinal,row1,row2,row3,row4,row5):\n",
    "    with open('coordinates.csv', mode = 'a',newline='') as file:\n",
    "        csv_editor = csv.writer(file, delimiter=',', quotechar='\"', quoting=csv.QUOTE_MINIMAL)\n",
    "        csv_editor.writerow(row1)\n",
    "        csv_editor.writerow(row2)\n",
    "        csv_editor.writerow(row3)\n",
    "        csv_editor.writerow(row4)\n",
    "        csv_editor.writerow(row5)"
   ]
  },
  {
   "cell_type": "markdown",
   "id": "2a8300c8-7e79-49c0-a25e-4fc06c99057d",
   "metadata": {},
   "source": [
    "# A FUNCTION WHICH TAKES A POSE NAME , CREATES 5 INSTANCES OF POSE DATA BY CAPTURING THE COORDINATES AND THEN ENTERS DATA IN CSV FILE"
   ]
  },
  {
   "cell_type": "code",
   "execution_count": 7,
   "id": "5aec05ea-195e-4fa0-904b-c2cf5340425b",
   "metadata": {},
   "outputs": [],
   "source": [
    "def calculateNewPose(poseName):\n",
    "    print(\"enter data1\")\n",
    "    r1=givePoseRowList(poseName)\n",
    "    print(\"enter data2\")\n",
    "    r2=givePoseRowList(poseName)\n",
    "    print(\"enter data3\")\n",
    "    r3=givePoseRowList(poseName)\n",
    "    print(\"enter data4\")\n",
    "    r4=givePoseRowList(poseName)\n",
    "    print(\"enter data5\")\n",
    "    r5=givePoseRowList(poseName)\n",
    "    enterNewPoseInCSV(poseName,r1,r2,r3,r4,r5)"
   ]
  },
  {
   "cell_type": "code",
   "execution_count": 64,
   "id": "01f7dd94-c06a-4f87-b870-b3f3cf1e7d8f",
   "metadata": {},
   "outputs": [
    {
     "name": "stdout",
     "output_type": "stream",
     "text": [
      "enter data1\n",
      "enter data2\n",
      "enter data3\n",
      "enter data4\n",
      "enter data5\n"
     ]
    }
   ],
   "source": [
    "calculateNewPose(\"Left Two\")"
   ]
  },
  {
   "cell_type": "code",
   "execution_count": 8,
   "id": "a34faf6c-b5ce-4110-a828-0a02aff8c216",
   "metadata": {},
   "outputs": [
    {
     "name": "stdout",
     "output_type": "stream",
     "text": [
      "enter data1\n",
      "enter data2\n",
      "enter data3\n",
      "enter data4\n",
      "enter data5\n"
     ]
    }
   ],
   "source": [
    "calculateNewPose(\"Ameen\")"
   ]
  },
  {
   "cell_type": "code",
   "execution_count": 21,
   "id": "17634bb6-5a0d-425a-85d1-fcc28cfca7c6",
   "metadata": {},
   "outputs": [
    {
     "ename": "AttributeError",
     "evalue": "module 'mediapipe' has no attribute 'holistic'",
     "output_type": "error",
     "traceback": [
      "\u001b[1;31m---------------------------------------------------------------------------\u001b[0m",
      "\u001b[1;31mAttributeError\u001b[0m                            Traceback (most recent call last)",
      "Cell \u001b[1;32mIn[21], line 1\u001b[0m\n\u001b[1;32m----> 1\u001b[0m \u001b[43mgivePoseCoordsTimed10\u001b[49m\u001b[43m(\u001b[49m\u001b[38;5;124;43m\"\u001b[39;49m\u001b[38;5;124;43mBoth Hands Up\u001b[39;49m\u001b[38;5;124;43m\"\u001b[39;49m\u001b[43m)\u001b[49m\n",
      "Cell \u001b[1;32mIn[20], line 3\u001b[0m, in \u001b[0;36mgivePoseCoordsTimed10\u001b[1;34m(poseName)\u001b[0m\n\u001b[0;32m      1\u001b[0m \u001b[38;5;28;01mdef\u001b[39;00m \u001b[38;5;21mgivePoseCoordsTimed10\u001b[39m(poseName):\n\u001b[0;32m      2\u001b[0m     cap \u001b[38;5;241m=\u001b[39m cv2\u001b[38;5;241m.\u001b[39mVideoCapture(\u001b[38;5;241m0\u001b[39m)\n\u001b[1;32m----> 3\u001b[0m     holistic \u001b[38;5;241m=\u001b[39m \u001b[43mmp\u001b[49m\u001b[38;5;241;43m.\u001b[39;49m\u001b[43mholistic\u001b[49m\u001b[38;5;241m.\u001b[39mHolistic(min_detection_confidence\u001b[38;5;241m=\u001b[39m\u001b[38;5;241m0.5\u001b[39m, min_tracking_confidence\u001b[38;5;241m=\u001b[39m\u001b[38;5;241m0.5\u001b[39m)\n\u001b[0;32m      5\u001b[0m     timer_duration \u001b[38;5;241m=\u001b[39m \u001b[38;5;241m10\u001b[39m\n\u001b[0;32m      7\u001b[0m     \u001b[38;5;66;03m# Get the current time to start the timer\u001b[39;00m\n",
      "\u001b[1;31mAttributeError\u001b[0m: module 'mediapipe' has no attribute 'holistic'"
     ]
    }
   ],
   "source": [
    "givePoseCoordsTimed10(\"Both Hands Up\")"
   ]
  },
  {
   "cell_type": "code",
   "execution_count": null,
   "id": "a7ba3325-e041-4b34-a12b-6762168fd8db",
   "metadata": {},
   "outputs": [],
   "source": []
  }
 ],
 "metadata": {
  "kernelspec": {
   "display_name": "Python 3 (ipykernel)",
   "language": "python",
   "name": "python3"
  },
  "language_info": {
   "codemirror_mode": {
    "name": "ipython",
    "version": 3
   },
   "file_extension": ".py",
   "mimetype": "text/x-python",
   "name": "python",
   "nbconvert_exporter": "python",
   "pygments_lexer": "ipython3",
   "version": "3.8.10"
  }
 },
 "nbformat": 4,
 "nbformat_minor": 5
}
