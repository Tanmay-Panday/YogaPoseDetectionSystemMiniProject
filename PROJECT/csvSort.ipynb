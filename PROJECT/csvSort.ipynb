{
 "cells": [
  {
   "cell_type": "code",
   "execution_count": 1,
   "id": "f481f68f-a614-4524-97ee-2ce577c8ee7d",
   "metadata": {},
   "outputs": [],
   "source": [
    "import pandas as pd\n",
    "\n",
    "def sort_csv_by_class(file_path):\n",
    "    try:\n",
    "        # Read the CSV file into a pandas DataFrame\n",
    "        df = pd.read_csv(file_path)\n",
    "\n",
    "        # Sort the DataFrame based on the \"class\" column\n",
    "        df_sorted = df.sort_values(by='class')\n",
    "\n",
    "        # Write the sorted DataFrame back to the CSV file\n",
    "        df_sorted.to_csv(file_path, index=False)\n",
    "\n",
    "        print(f\"Rows in '{file_path}' sorted alphabetically based on 'class' column.\")\n",
    "    except FileNotFoundError:\n",
    "        print(f\"Error: File '{file_path}' not found.\")\n",
    "    except Exception as e:\n",
    "        print(f\"Error: An unexpected error occurred - {e}\")"
   ]
  },
  {
   "cell_type": "code",
   "execution_count": 2,
   "id": "164d60a0-7f39-496d-9770-a334855c53a4",
   "metadata": {},
   "outputs": [
    {
     "name": "stdout",
     "output_type": "stream",
     "text": [
      "Rows in 'coordinates.csv' sorted alphabetically based on 'class' column.\n"
     ]
    }
   ],
   "source": [
    "file_path = 'coordinates.csv'  # the path of your CSV file\n",
    "sort_csv_by_class(file_path)"
   ]
  },
  {
   "cell_type": "code",
   "execution_count": null,
   "id": "d9ef2ce4-c3bc-45f9-8535-15a58f0f9b46",
   "metadata": {},
   "outputs": [],
   "source": []
  }
 ],
 "metadata": {
  "kernelspec": {
   "display_name": "Python 3 (ipykernel)",
   "language": "python",
   "name": "python3"
  },
  "language_info": {
   "codemirror_mode": {
    "name": "ipython",
    "version": 3
   },
   "file_extension": ".py",
   "mimetype": "text/x-python",
   "name": "python",
   "nbconvert_exporter": "python",
   "pygments_lexer": "ipython3",
   "version": "3.8.10"
  }
 },
 "nbformat": 4,
 "nbformat_minor": 5
}
