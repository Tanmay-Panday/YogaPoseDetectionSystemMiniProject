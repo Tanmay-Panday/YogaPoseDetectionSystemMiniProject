{
 "cells": [
  {
   "cell_type": "code",
   "execution_count": 1,
   "id": "15142dbc-f12c-432c-a7d1-2eb84386e020",
   "metadata": {},
   "outputs": [],
   "source": [
    "import pickle\n",
    "import cv2\n",
    "import mediapipe as mp\n",
    "import numpy as np\n",
    "import csv\n",
    "import pandas as pd"
   ]
  },
  {
   "cell_type": "code",
   "execution_count": 2,
   "id": "0a5044b8-0b3f-42f8-93c3-fa7aa409c5dc",
   "metadata": {},
   "outputs": [],
   "source": [
    "file =  open(\"best_model.pkl\", \"rb\")"
   ]
  },
  {
   "cell_type": "code",
   "execution_count": 3,
   "id": "e6926f4d-2a31-4704-a512-f02e62ffa457",
   "metadata": {},
   "outputs": [],
   "source": [
    "model = pickle.load(file)"
   ]
  },
  {
   "cell_type": "code",
   "execution_count": 4,
   "id": "c8495c52-6147-4224-b449-defed8a75bbc",
   "metadata": {},
   "outputs": [],
   "source": [
    "a=model.steps[1][0]"
   ]
  },
  {
   "cell_type": "code",
   "execution_count": 5,
   "id": "cc8422ee-7b72-48fe-80e7-9192107e8241",
   "metadata": {},
   "outputs": [
    {
     "name": "stdout",
     "output_type": "stream",
     "text": [
      "<class 'str'>\n",
      "logisticregression\n"
     ]
    }
   ],
   "source": [
    "print(type(a))    # string name of the classifier)\n",
    "print(a)"
   ]
  },
  {
   "cell_type": "code",
   "execution_count": 6,
   "id": "79309bc1-c174-43cd-be1b-98b5a24fa860",
   "metadata": {},
   "outputs": [],
   "source": [
    "mp_drawing = mp.solutions.drawing_utils\n",
    "mp_holistic = mp.solutions.holistic"
   ]
  },
  {
   "cell_type": "code",
   "execution_count": 7,
   "id": "05311991-586a-43b1-bdd4-e4c1836ee28b",
   "metadata": {},
   "outputs": [],
   "source": [
    "clf = [\"LogisticRegression\",\"RandomForestClassifier\",\"GradientBoostingClassifier\"]\n",
    "def giveClassifierName(c):\n",
    "    s=\"\"\n",
    "    if(c.lower()==clf[0].lower()):\n",
    "        s=\"Logistic Regression Model\"\n",
    "    elif(c.lower()==clf[1].lower()):\n",
    "        s=\"Random Forest Model\"\n",
    "    else:\n",
    "        s=\"Gradient Boosting Model\"\n",
    "    return s"
   ]
  },
  {
   "cell_type": "code",
   "execution_count": 8,
   "id": "08d9f6d7-a9c9-4ec3-950c-81ad5ff002f8",
   "metadata": {},
   "outputs": [],
   "source": [
    "frame_name = giveClassifierName(a)"
   ]
  },
  {
   "cell_type": "code",
   "execution_count": 9,
   "id": "fc4d80ca-8f0f-44a0-a212-4b74510f4637",
   "metadata": {},
   "outputs": [],
   "source": [
    "def doPredictionsNew():\n",
    "    cap = cv2.VideoCapture(0)\n",
    "    holistic = mp_holistic.Holistic(min_detection_confidence=0.5, min_tracking_confidence=0.5)\n",
    "\n",
    "    while cap.isOpened():\n",
    "        ret, frame = cap.read()\n",
    "        if not ret:\n",
    "            break\n",
    "\n",
    "        image = cv2.cvtColor(frame, cv2.COLOR_BGR2RGB)\n",
    "        results = holistic.process(image)\n",
    "        image = cv2.cvtColor(frame, cv2.COLOR_RGB2BGR)\n",
    "\n",
    "        mp_drawing.draw_landmarks(image, results.pose_landmarks, mp_holistic.POSE_CONNECTIONS,\n",
    "                                  mp_drawing.DrawingSpec(color=(245, 117, 66), thickness=1, circle_radius=1),\n",
    "                                  mp_drawing.DrawingSpec(color=(245, 66, 230), thickness=1, circle_radius=1)\n",
    "                                  )\n",
    "\n",
    "        try:\n",
    "            if results.pose_landmarks:\n",
    "                pose = results.pose_landmarks.landmark\n",
    "                pose_row = list(np.array([[landmark.x, landmark.y, landmark.z, landmark.visibility] for landmark in pose]).flatten())\n",
    "\n",
    "                # MAKING DETECTIONS\n",
    "                X = pd.DataFrame([pose_row])\n",
    "                yoga_pose_name = model.predict(X)[0]\n",
    "                yoga_pose_prob = model.predict_proba(X)[0]\n",
    "\n",
    "                # Display yoga pose name and probability in frame on separate lines\n",
    "                text1 = f\"Yoga Pose: {yoga_pose_name}\"\n",
    "                text2 = f\"Probability: {yoga_pose_prob.max():.2f}\"\n",
    "                cv2.rectangle(image, (10, 10), (600, 80), (0, 255, 255), -1)  # Yellow background\n",
    "                cv2.putText(image, text1, (20, 40), cv2.FONT_HERSHEY_SIMPLEX, 1, (0, 0, 0), 2)  # Black font\n",
    "                cv2.putText(image, text2, (20, 80), cv2.FONT_HERSHEY_SIMPLEX, 1, (0, 0, 255), 2)  # Red font\n",
    "\n",
    "        except Exception as e:\n",
    "            print(f\"Error: {e}\")\n",
    "\n",
    "        cv2.imshow(\"OPEN CV CAMERA\", image)\n",
    "\n",
    "        if cv2.waitKey(10) & 0xFF == ord(\"q\"):\n",
    "            break\n",
    "\n",
    "    cap.release()\n",
    "    cv2.destroyAllWindows()\n"
   ]
  },
  {
   "cell_type": "code",
   "execution_count": 10,
   "id": "c07b4886-9b44-4d7a-9ea7-f12b2cdb089d",
   "metadata": {},
   "outputs": [],
   "source": [
    "import warnings\n",
    "warnings.filterwarnings(\"ignore\", category=UserWarning, module=\"sklearn\")\n",
    "doPredictionsNew()"
   ]
  },
  {
   "cell_type": "code",
   "execution_count": null,
   "id": "79544714-a874-4071-8853-21e91cf335f1",
   "metadata": {},
   "outputs": [],
   "source": []
  }
 ],
 "metadata": {
  "kernelspec": {
   "display_name": "Python 3 (ipykernel)",
   "language": "python",
   "name": "python3"
  },
  "language_info": {
   "codemirror_mode": {
    "name": "ipython",
    "version": 3
   },
   "file_extension": ".py",
   "mimetype": "text/x-python",
   "name": "python",
   "nbconvert_exporter": "python",
   "pygments_lexer": "ipython3",
   "version": "3.8.10"
  }
 },
 "nbformat": 4,
 "nbformat_minor": 5
}
