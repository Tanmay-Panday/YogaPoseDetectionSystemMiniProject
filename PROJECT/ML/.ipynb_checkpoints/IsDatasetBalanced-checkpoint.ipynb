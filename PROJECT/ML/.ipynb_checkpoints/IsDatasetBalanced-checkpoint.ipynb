{
 "cells": [
  {
   "cell_type": "code",
   "execution_count": 2,
   "id": "ca7cdcf1-065c-47fe-92e8-ee34ed15721a",
   "metadata": {},
   "outputs": [
    {
     "name": "stdout",
     "output_type": "stream",
     "text": [
      "Class Distribution:\n",
      "class\n",
      "HANDS UP    67\n",
      "COLD        66\n",
      "Ameen        5\n",
      "Left Two     5\n",
      "Name: count, dtype: int64\n",
      "Is the dataset balanced? False\n"
     ]
    }
   ],
   "source": [
    "import pandas as pd\n",
    "\n",
    "# Replace 'your_dataset.csv' with the actual path to your CSV dataset\n",
    "file_path = \"../coordinates.csv\"\n",
    "df = pd.read_csv(file_path)\n",
    "\n",
    "# Assuming the 'class' column contains the labels\n",
    "class_distribution = df['class'].value_counts()\n",
    "\n",
    "# Display the class distribution\n",
    "print(\"Class Distribution:\")\n",
    "print(class_distribution)\n",
    "\n",
    "# Check if the dataset is balanced\n",
    "is_balanced = all(count == class_distribution.iloc[0] for count in class_distribution)\n",
    "print(\"Is the dataset balanced?\", is_balanced)"
   ]
  },
  {
   "cell_type": "code",
   "execution_count": null,
   "id": "29ef6049-6010-412e-85a9-bba6b4e7e9c7",
   "metadata": {},
   "outputs": [],
   "source": []
  }
 ],
 "metadata": {
  "kernelspec": {
   "display_name": "Python 3 (ipykernel)",
   "language": "python",
   "name": "python3"
  },
  "language_info": {
   "codemirror_mode": {
    "name": "ipython",
    "version": 3
   },
   "file_extension": ".py",
   "mimetype": "text/x-python",
   "name": "python",
   "nbconvert_exporter": "python",
   "pygments_lexer": "ipython3",
   "version": "3.10.6"
  }
 },
 "nbformat": 4,
 "nbformat_minor": 5
}
