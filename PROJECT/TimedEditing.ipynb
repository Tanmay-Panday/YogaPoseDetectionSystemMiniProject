{
 "cells": [
  {
   "cell_type": "code",
   "execution_count": 1,
   "id": "ac46919a-714c-4bba-9d60-abc8409f693d",
   "metadata": {},
   "outputs": [],
   "source": [
    "import os\n",
    "import cv2\n",
    "import mediapipe as mp\n",
    "import numpy as np\n",
    "import time\n",
    "import csv"
   ]
  },
  {
   "cell_type": "code",
   "execution_count": 2,
   "id": "a07f3a81-983e-48aa-8e22-95f2030fdd4e",
   "metadata": {},
   "outputs": [],
   "source": [
    "mp_drawing = mp.solutions.drawing_utils\n",
    "mp_holistic = mp.solutions.holistic"
   ]
  },
  {
   "cell_type": "code",
   "execution_count": 3,
   "id": "423ba331-ab39-4a17-a9d4-d4db537dc443",
   "metadata": {},
   "outputs": [],
   "source": [
    "def givePoseCoords(poseName):\n",
    "    cap = cv2.VideoCapture(0)\n",
    "    holistic = mp_holistic.Holistic(min_detection_confidence=0.5, min_tracking_confidence=0.5)\n",
    "    \n",
    "    # Set the timer duration in seconds\n",
    "    timer_duration = 10\n",
    "    \n",
    "    # Get the current time to start the timer\n",
    "    start_time = time.time()\n",
    "    \n",
    "    while cap.isOpened():\n",
    "        ret, frame = cap.read()  # ret = true <if camera is available> frame = image array vector\n",
    "\n",
    "        # Calculate the elapsed time\n",
    "        elapsed_time = time.time() - start_time\n",
    "        remaining_time = max(0, timer_duration - elapsed_time)\n",
    "        \n",
    "        # Draw the countdown timer on the frame\n",
    "        cv2.putText(frame, f\"Timer: {int(remaining_time)} seconds\", (10, 30),\n",
    "                    cv2.FONT_HERSHEY_SIMPLEX, 1, (255, 255, 255), 2, cv2.LINE_AA)\n",
    "\n",
    "        image = cv2.cvtColor(frame, cv2.COLOR_BGR2RGB)\n",
    "        results = holistic.process(image)\n",
    "        image = cv2.cvtColor(frame, cv2.COLOR_RGB2BGR)\n",
    "\n",
    "        mp_drawing.draw_landmarks(image, results.pose_landmarks, mp_holistic.POSE_CONNECTIONS,\n",
    "                                  mp_drawing.DrawingSpec(color=(245, 117, 66), thickness=1, circle_radius=1),\n",
    "                                  mp_drawing.DrawingSpec(color=(245, 66, 230), thickness=1, circle_radius=1)\n",
    "                                 )\n",
    "        \n",
    "        try:\n",
    "           if results.pose_landmarks:\n",
    "               pose = results.pose_landmarks.landmark\n",
    "               pose_row = list(np.array([[landmark.x, landmark.y, landmark.z, landmark.visibility] for landmark in pose]).flatten())\n",
    "               pose_row.insert(0, poseName)\n",
    "               with open('coordinates.csv', mode='a', newline='') as f:\n",
    "                   csv_writer = csv.writer(f, delimiter=',', quotechar='\"', quoting=csv.QUOTE_MINIMAL)\n",
    "                   csv_writer.writerow(pose_row)\n",
    "        except Exception as e:\n",
    "            print(f\"Error: {e}\")\n",
    "\n",
    "\n",
    "        cv2.imshow(\"OPEN CV CAMERA\", image)\n",
    "\n",
    "        if elapsed_time >= timer_duration:\n",
    "            break\n",
    "\n",
    "        if cv2.waitKey(10) & 0xFF == ord(\"q\"):\n",
    "            break\n",
    "\n",
    "    cap.release()\n",
    "    cv2.destroyAllWindows()\n"
   ]
  },
  {
   "cell_type": "code",
   "execution_count": 7,
   "id": "a1763865-8793-44e8-b76f-ffe342db4646",
   "metadata": {},
   "outputs": [],
   "source": [
    "givePoseCoords(\"Both\")"
   ]
  },
  {
   "cell_type": "code",
   "execution_count": null,
   "id": "bb50a383-8aa8-4da7-a578-5f0c9339d899",
   "metadata": {},
   "outputs": [],
   "source": []
  },
  {
   "cell_type": "code",
   "execution_count": null,
   "id": "9ace3bb5-682e-4a4e-b303-0b5cdf0bae8f",
   "metadata": {},
   "outputs": [],
   "source": []
  }
 ],
 "metadata": {
  "kernelspec": {
   "display_name": "Python 3 (ipykernel)",
   "language": "python",
   "name": "python3"
  },
  "language_info": {
   "codemirror_mode": {
    "name": "ipython",
    "version": 3
   },
   "file_extension": ".py",
   "mimetype": "text/x-python",
   "name": "python",
   "nbconvert_exporter": "python",
   "pygments_lexer": "ipython3",
   "version": "3.8.10"
  }
 },
 "nbformat": 4,
 "nbformat_minor": 5
}
